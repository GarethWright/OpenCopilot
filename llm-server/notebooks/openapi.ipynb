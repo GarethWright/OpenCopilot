{
 "cells": [
  {
   "cell_type": "markdown",
   "metadata": {},
   "source": [
    "### FEW SHOT PROMPT EXAMPLE\n",
    "Automatically derive the json from the schema, and use it as an example for the large language model to construct the next payload using prev conversations"
   ]
  },
  {
   "cell_type": "code",
   "execution_count": 3,
   "metadata": {},
   "outputs": [],
   "source": [
    "from typing import Any, Dict, List, Union\n",
    "import json\n",
    "from jsonschema import Draft7Validator, exceptions\n",
    "from faker import Faker\n",
    "import random\n",
    "\n",
    "fake = Faker()\n",
    "\n",
    "def generate_example_json(schema: Dict[str, Any], num_items: int = 1, include_optional: bool = True) -> Union[Dict[str, Any], List[Dict[str, Any]]]:\n",
    "    def generate_example_property(property_schema: Dict[str, Any], required: bool = True) -> Any:\n",
    "        if \"example\" in property_schema:\n",
    "            return property_schema[\"example\"]\n",
    "\n",
    "        if \"type\" in property_schema:\n",
    "            if \"format\" in property_schema:\n",
    "                return generate_example_with_format(property_schema)\n",
    "            elif property_schema[\"type\"] == \"object\":\n",
    "                example_property: Dict[str, Any] = {}\n",
    "                if \"properties\" in property_schema:\n",
    "                    for prop_name, prop_schema in property_schema[\"properties\"].items():\n",
    "                        # Check if property is required in the schema\n",
    "                        is_required = required and prop_name in schema.get(\"required\", [])\n",
    "                        if is_required or include_optional:\n",
    "                            example_property[prop_name] = generate_example_property(prop_schema, is_required)\n",
    "                return example_property\n",
    "            elif property_schema[\"type\"] == \"array\":\n",
    "                example_property = []\n",
    "                if \"items\" in property_schema:\n",
    "                    for _ in range(num_items):\n",
    "                        example_property.append(generate_example_property(property_schema[\"items\"]))\n",
    "                return example_property\n",
    "            elif property_schema[\"type\"] == \"string\":\n",
    "                if \"enum\" in property_schema:\n",
    "                    return random.choice(property_schema[\"enum\"])\n",
    "                else:\n",
    "                    return fake.word()\n",
    "            elif property_schema[\"type\"] == \"integer\":\n",
    "                return fake.random_int(min=0, max=100)\n",
    "            elif property_schema[\"type\"] == \"number\":\n",
    "                return fake.random_number(decimals=2, min_value=0, max_value=100)\n",
    "            elif property_schema[\"type\"] == \"boolean\":\n",
    "                return fake.boolean()\n",
    "            elif property_schema[\"type\"] == \"null\":\n",
    "                return None\n",
    "\n",
    "    def generate_example_with_format(property_schema: Dict[str, Any]) -> Any:\n",
    "        format_type = property_schema[\"format\"]\n",
    "        \n",
    "        if format_type == \"date-time\":\n",
    "            return fake.iso8601()\n",
    "        elif format_type == \"date\":\n",
    "            return fake.date()\n",
    "        elif format_type == \"int64\":\n",
    "            return fake.random_int(min=0, max=9223372036854775807)\n",
    "        elif format_type == \"int32\":\n",
    "            return fake.random_int(min=0, max=2147483647)\n",
    "        else:\n",
    "            return fake.word()\n",
    "\n",
    "    example_json: Union[Dict[str, Any], List[Dict[str, Any]]] = {}\n",
    "    \n",
    "    # Handle root-level arrays\n",
    "    if schema.get(\"type\") == \"array\":\n",
    "        example_json = []\n",
    "        for _ in range(num_items):\n",
    "            example_json.append(generate_example_property(schema[\"items\"]))\n",
    "    else:\n",
    "        for prop_name, prop_schema in schema[\"properties\"].items():\n",
    "            # Check if property is required in the schema\n",
    "            is_required = prop_name in schema.get(\"required\", [])\n",
    "            if is_required or include_optional:\n",
    "                example_json[prop_name] = generate_example_property(prop_schema, is_required)\n",
    "\n",
    "    return example_json\n"
   ]
  },
  {
   "cell_type": "code",
   "execution_count": 5,
   "metadata": {},
   "outputs": [
    {
     "data": {
      "text/plain": [
       "{'id': 10,\n",
       " 'petId': 198772,\n",
       " 'quantity': 7,\n",
       " 'shipDate': '2012-06-24T10:55:10',\n",
       " 'status': 'approved',\n",
       " 'complete': True}"
      ]
     },
     "execution_count": 5,
     "metadata": {},
     "output_type": "execute_result"
    }
   ],
   "source": [
    "generate_example_json({'properties': {'id': {'type': 'integer', 'format': 'int64', 'example': 10}, 'petId': {'type': 'integer', 'format': 'int64', 'example': 198772}, 'quantity': {'type': 'integer', 'format': 'int32', 'example': 7}, 'shipDate': {'type': 'string', 'format': 'date-time'}, 'status': {'type': 'string', 'description': 'Order Status', 'example': 'approved', 'enum': ['placed', 'approved', 'delivered']}, 'complete': {'type': 'boolean'}}})"
   ]
  }
 ],
 "metadata": {
  "kernelspec": {
   "display_name": "venv",
   "language": "python",
   "name": "python3"
  },
  "language_info": {
   "codemirror_mode": {
    "name": "ipython",
    "version": 3
   },
   "file_extension": ".py",
   "mimetype": "text/x-python",
   "name": "python",
   "nbconvert_exporter": "python",
   "pygments_lexer": "ipython3",
   "version": "3.9.17"
  },
  "orig_nbformat": 4
 },
 "nbformat": 4,
 "nbformat_minor": 2
}
