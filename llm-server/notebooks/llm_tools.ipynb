{
 "cells": [
  {
   "cell_type": "markdown",
   "metadata": {},
   "source": [
    "### Agent tools to reduce dependency on large language models\n",
    "The following tool is used to find information in a very large json object. "
   ]
  },
  {
   "cell_type": "code",
   "execution_count": 1,
   "metadata": {},
   "outputs": [],
   "source": [
    "def find_object_with_string(search_string, json_obj):\n",
    "    if isinstance(json_obj, dict):\n",
    "        for key, value in json_obj.items():\n",
    "            if isinstance(value, (dict, list)):\n",
    "                result = find_object_with_string(search_string, value)\n",
    "                if result:\n",
    "                    return result\n",
    "            elif isinstance(value, str) and search_string in value:\n",
    "                return json_obj\n",
    "    elif isinstance(json_obj, list):\n",
    "        for item in json_obj:\n",
    "            if isinstance(item, (dict, list)):\n",
    "                result = find_object_with_string(search_string, item)\n",
    "                if result:\n",
    "                    return result\n",
    "            elif isinstance(item, str) and search_string in item:\n",
    "                return json_obj\n",
    "    return None"
   ]
  },
  {
   "cell_type": "code",
   "execution_count": 10,
   "metadata": {},
   "outputs": [
    {
     "name": "stdout",
     "output_type": "stream",
     "text": [
      "Object containing the string:\n",
      "{'ServerId': 58, 'FirstName': 'AUSTIN', 'LastName': 'HAYNES', 'Email': 'ahaynes@pahcc.org', 'Phone': '8023821050', 'OrgName': 'Patricia Hannaford Career Center', 'OrgID': 'TE001'}\n"
     ]
    }
   ],
   "source": [
    "large_json = [\n",
    "  {\n",
    "    \"ServerId\": 1,\n",
    "    \"FirstName\": \"DENNIS\",\n",
    "    \"LastName\": \"FILIPPI\",\n",
    "    \"Email\": \"dfilippi@burrburton.org\",\n",
    "    \"Phone\": \"8023621775\",\n",
    "    \"OrgName\": \"BURR AND BURTON ACADEMY\",\n",
    "    \"OrgID\": \"PA002\"\n",
    "  },\n",
    "  {\n",
    "    \"ServerId\": 2,\n",
    "    \"FirstName\": \"MEAGAN\",\n",
    "    \"LastName\": \"HOWARD\",\n",
    "    \"Email\": \"meagan.howard@lyndoninstitute.org\",\n",
    "    \"Phone\": \"8025353733\",\n",
    "    \"OrgName\": \"LYNDON INSTITUTE\",\n",
    "    \"OrgID\": \"PA003\"\n",
    "  },\n",
    "  {\n",
    "    \"ServerId\": 55,\n",
    "    \"FirstName\": \"TISHA\",\n",
    "    \"LastName\": \"HANKINSON\",\n",
    "    \"Email\": \"thankinson@kingdomeast.org \",\n",
    "    \"Phone\": \"8026266100\",\n",
    "    \"OrgName\": \"Kingdom East Supervisory District\",\n",
    "    \"OrgID\": \"SU067\"\n",
    "  },\n",
    "  {\n",
    "    \"ServerId\": 56,\n",
    "    \"FirstName\": \"CHRIS\",\n",
    "    \"LastName\": \"LOCARNO\",\n",
    "    \"Email\": \"clocarno@cvsu.org\",\n",
    "    \"Phone\": \"8024335818\",\n",
    "    \"OrgName\": \"Central Vermont Supervisory Union\",\n",
    "    \"OrgID\": \"SU068\",\n",
    "    \"others\": {\n",
    "      \"ServerId\": 57,\n",
    "      \"FirstName\": \"CHRISTINA\",\n",
    "      \"LastName\": \"KIMBALL\",\n",
    "      \"Email\": \"christinak@mpsvt.org\",\n",
    "      \"Phone\": \"8022239798\",\n",
    "      \"OrgName\": \"Montpelier Roxbury Supervisory District\",\n",
    "      \"OrgID\": \"SU069\",\n",
    "      \"extras\": {\n",
    "        \"ServerId\": 58,\n",
    "        \"FirstName\": \"AUSTIN\",\n",
    "        \"LastName\": \"HAYNES\",\n",
    "        \"Email\": \"ahaynes@pahcc.org\",\n",
    "        \"Phone\": \"8023821050\",\n",
    "        \"OrgName\": \"Patricia Hannaford Career Center\",\n",
    "        \"OrgID\": \"TE001\"\n",
    "      }\n",
    "    },\n",
    "  },\n",
    "  {\n",
    "    \"ServerId\": 61,\n",
    "    \"FirstName\": \"Madeline\",\n",
    "    \"LastName\": \"Crudo-Burke\",\n",
    "    \"Email\": \"mburke@lincolnsd.org\",\n",
    "    \"Phone\": \"802 453-2119\",\n",
    "    \"OrgName\": \"Lincoln School District\",\n",
    "    \"OrgID\": \"SU070\"\n",
    "  }\n",
    "]\n",
    "\n",
    "search_string = \"ahaynes\"\n",
    "\n",
    "result = find_object_with_string(search_string, large_json)\n",
    "if result:\n",
    "    print(\"Object containing the string:\")\n",
    "    print(result)\n",
    "else:\n",
    "    print(\"String not found in the JSON.\")"
   ]
  },
  {
   "cell_type": "code",
   "execution_count": null,
   "metadata": {},
   "outputs": [],
   "source": []
  }
 ],
 "metadata": {
  "kernelspec": {
   "display_name": "base",
   "language": "python",
   "name": "python3"
  },
  "language_info": {
   "codemirror_mode": {
    "name": "ipython",
    "version": 3
   },
   "file_extension": ".py",
   "mimetype": "text/x-python",
   "name": "python",
   "nbconvert_exporter": "python",
   "pygments_lexer": "ipython3",
   "version": "3.11.4"
  },
  "orig_nbformat": 4
 },
 "nbformat": 4,
 "nbformat_minor": 2
}
